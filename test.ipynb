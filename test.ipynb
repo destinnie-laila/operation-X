import tensorflow as tensorflow
print ('tensorflow version' tf__version__)